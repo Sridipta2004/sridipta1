{
  "metadata": {
    "kernelspec": {
      "language": "python",
      "display_name": "Python 3",
      "name": "python3"
    },
    "language_info": {
      "name": "python",
      "version": "3.10.12",
      "mimetype": "text/x-python",
      "codemirror_mode": {
        "name": "ipython",
        "version": 3
      },
      "pygments_lexer": "ipython3",
      "nbconvert_exporter": "python",
      "file_extension": ".py"
    },
    "kaggle": {
      "accelerator": "none",
      "dataSources": [
        {
          "sourceId": 4828746,
          "sourceType": "datasetVersion",
          "datasetId": 2797721
        }
      ],
      "dockerImageVersionId": 30839,
      "isInternetEnabled": false,
      "language": "python",
      "sourceType": "notebook",
      "isGpuEnabled": false
    },
    "colab": {
      "name": "Machine Learning1",
      "provenance": [],
      "include_colab_link": true
    }
  },
  "nbformat_minor": 0,
  "nbformat": 4,
  "cells": [
    {
      "cell_type": "markdown",
      "metadata": {
        "id": "view-in-github",
        "colab_type": "text"
      },
      "source": [
        "<a href=\"https://colab.research.google.com/github/Sridipta2004/sridipta1/blob/main/Machine_Learning1.ipynb\" target=\"_parent\"><img src=\"https://colab.research.google.com/assets/colab-badge.svg\" alt=\"Open In Colab\"/></a>"
      ]
    },
    {
      "source": [
        "# IMPORTANT: RUN THIS CELL IN ORDER TO IMPORT YOUR KAGGLE DATA SOURCES,\n",
        "# THEN FEEL FREE TO DELETE THIS CELL.\n",
        "# NOTE: THIS NOTEBOOK ENVIRONMENT DIFFERS FROM KAGGLE'S PYTHON\n",
        "# ENVIRONMENT SO THERE MAY BE MISSING LIBRARIES USED BY YOUR\n",
        "# NOTEBOOK.\n",
        "import kagglehub\n",
        "ahsan81_job_placement_dataset_path = kagglehub.dataset_download('ahsan81/job-placement-dataset')\n",
        "\n",
        "print('Data source import complete.')\n"
      ],
      "metadata": {
        "id": "9Nra1teMpJpV"
      },
      "cell_type": "code",
      "outputs": [],
      "execution_count": null
    },
    {
      "cell_type": "code",
      "source": [
        "# This Python 3 environment comes with many helpful analytics libraries installed\n",
        "# It is defined by the kaggle/python Docker image: https://github.com/kaggle/docker-python\n",
        "# For example, here's several helpful packages to load\n",
        "\n",
        "import numpy as np # linear algebra\n",
        "import pandas as pd # data processing, CSV file I/O (e.g. pd.read_csv)\n",
        "\n",
        "# Input data files are available in the read-only \"../input/\" directory\n",
        "# For example, running this (by clicking run or pressing Shift+Enter) will list all files under the input directory\n",
        "\n",
        "import os\n",
        "for dirname, _, filenames in os.walk('/kaggle/input'):\n",
        "    for filename in filenames:\n",
        "        print(os.path.join(dirname, filename))\n",
        "\n",
        "# You can write up to 20GB to the current directory (/kaggle/working/) that gets preserved as output when you create a version using \"Save & Run All\"\n",
        "# You can also write temporary files to /kaggle/temp/, but they won't be saved outside of the current session"
      ],
      "metadata": {
        "_uuid": "8f2839f25d086af736a60e9eeb907d3b93b6e0e5",
        "_cell_guid": "b1076dfc-b9ad-4769-8c92-a6c4dae69d19",
        "trusted": true,
        "execution": {
          "iopub.status.busy": "2025-01-27T16:17:02.78066Z",
          "iopub.execute_input": "2025-01-27T16:17:02.781037Z",
          "iopub.status.idle": "2025-01-27T16:17:02.791127Z",
          "shell.execute_reply.started": "2025-01-27T16:17:02.781011Z",
          "shell.execute_reply": "2025-01-27T16:17:02.789721Z"
        },
        "id": "kE3jMu64pJpY",
        "outputId": "bab53098-40d4-419a-805d-01fab4b31b55"
      },
      "outputs": [
        {
          "name": "stdout",
          "text": "/kaggle/input/job-placement-dataset/Job_Placement_Data.csv\n",
          "output_type": "stream"
        }
      ],
      "execution_count": null
    },
    {
      "cell_type": "code",
      "source": [
        "import numpy as np\n",
        "import pandas as pd\n"
      ],
      "metadata": {
        "trusted": true,
        "execution": {
          "iopub.status.busy": "2025-01-27T16:17:02.792818Z",
          "iopub.execute_input": "2025-01-27T16:17:02.793208Z",
          "iopub.status.idle": "2025-01-27T16:17:02.811252Z",
          "shell.execute_reply.started": "2025-01-27T16:17:02.793168Z",
          "shell.execute_reply": "2025-01-27T16:17:02.810144Z"
        },
        "id": "Vsnb7DCtpJpc"
      },
      "outputs": [],
      "execution_count": null
    },
    {
      "cell_type": "code",
      "source": [
        "df=pd.read_csv('/kaggle/input/job-placement-dataset/Job_Placement_Data.csv')"
      ],
      "metadata": {
        "trusted": true,
        "execution": {
          "iopub.status.busy": "2025-01-27T16:17:11.121331Z",
          "iopub.execute_input": "2025-01-27T16:17:11.121797Z",
          "iopub.status.idle": "2025-01-27T16:17:11.130508Z",
          "shell.execute_reply.started": "2025-01-27T16:17:11.121739Z",
          "shell.execute_reply": "2025-01-27T16:17:11.129445Z"
        },
        "id": "hzkcLdhOpJpd"
      },
      "outputs": [],
      "execution_count": null
    },
    {
      "cell_type": "code",
      "source": [
        "df"
      ],
      "metadata": {
        "trusted": true,
        "execution": {
          "iopub.status.busy": "2025-01-27T16:17:22.62448Z",
          "iopub.execute_input": "2025-01-27T16:17:22.624851Z",
          "iopub.status.idle": "2025-01-27T16:17:22.666181Z",
          "shell.execute_reply.started": "2025-01-27T16:17:22.624797Z",
          "shell.execute_reply": "2025-01-27T16:17:22.665084Z"
        },
        "id": "X_9hPeWjpJpe",
        "outputId": "6e875ecb-dec0-449b-b241-8e5479759a7c"
      },
      "outputs": [
        {
          "execution_count": 12,
          "output_type": "execute_result",
          "data": {
            "text/plain": "    gender  ssc_percentage ssc_board  hsc_percentage hsc_board hsc_subject  \\\n0        M           67.00    Others           91.00    Others    Commerce   \n1        M           79.33   Central           78.33    Others     Science   \n2        M           65.00   Central           68.00   Central        Arts   \n3        M           56.00   Central           52.00   Central     Science   \n4        M           85.80   Central           73.60   Central    Commerce   \n..     ...             ...       ...             ...       ...         ...   \n210      M           80.60    Others           82.00    Others    Commerce   \n211      M           58.00    Others           60.00    Others     Science   \n212      M           67.00    Others           67.00    Others    Commerce   \n213      F           74.00    Others           66.00    Others    Commerce   \n214      M           62.00   Central           58.00    Others     Science   \n\n     degree_percentage undergrad_degree work_experience  emp_test_percentage  \\\n0                58.00         Sci&Tech              No                 55.0   \n1                77.48         Sci&Tech             Yes                 86.5   \n2                64.00        Comm&Mgmt              No                 75.0   \n3                52.00         Sci&Tech              No                 66.0   \n4                73.30        Comm&Mgmt              No                 96.8   \n..                 ...              ...             ...                  ...   \n210              77.60        Comm&Mgmt              No                 91.0   \n211              72.00         Sci&Tech              No                 74.0   \n212              73.00        Comm&Mgmt             Yes                 59.0   \n213              58.00        Comm&Mgmt              No                 70.0   \n214              53.00        Comm&Mgmt              No                 89.0   \n\n    specialisation  mba_percent      status  \n0           Mkt&HR        58.80      Placed  \n1          Mkt&Fin        66.28      Placed  \n2          Mkt&Fin        57.80      Placed  \n3           Mkt&HR        59.43  Not Placed  \n4          Mkt&Fin        55.50      Placed  \n..             ...          ...         ...  \n210        Mkt&Fin        74.49      Placed  \n211        Mkt&Fin        53.62      Placed  \n212        Mkt&Fin        69.72      Placed  \n213         Mkt&HR        60.23      Placed  \n214         Mkt&HR        60.22  Not Placed  \n\n[215 rows x 13 columns]",
            "text/html": "<div>\n<style scoped>\n    .dataframe tbody tr th:only-of-type {\n        vertical-align: middle;\n    }\n\n    .dataframe tbody tr th {\n        vertical-align: top;\n    }\n\n    .dataframe thead th {\n        text-align: right;\n    }\n</style>\n<table border=\"1\" class=\"dataframe\">\n  <thead>\n    <tr style=\"text-align: right;\">\n      <th></th>\n      <th>gender</th>\n      <th>ssc_percentage</th>\n      <th>ssc_board</th>\n      <th>hsc_percentage</th>\n      <th>hsc_board</th>\n      <th>hsc_subject</th>\n      <th>degree_percentage</th>\n      <th>undergrad_degree</th>\n      <th>work_experience</th>\n      <th>emp_test_percentage</th>\n      <th>specialisation</th>\n      <th>mba_percent</th>\n      <th>status</th>\n    </tr>\n  </thead>\n  <tbody>\n    <tr>\n      <th>0</th>\n      <td>M</td>\n      <td>67.00</td>\n      <td>Others</td>\n      <td>91.00</td>\n      <td>Others</td>\n      <td>Commerce</td>\n      <td>58.00</td>\n      <td>Sci&amp;Tech</td>\n      <td>No</td>\n      <td>55.0</td>\n      <td>Mkt&amp;HR</td>\n      <td>58.80</td>\n      <td>Placed</td>\n    </tr>\n    <tr>\n      <th>1</th>\n      <td>M</td>\n      <td>79.33</td>\n      <td>Central</td>\n      <td>78.33</td>\n      <td>Others</td>\n      <td>Science</td>\n      <td>77.48</td>\n      <td>Sci&amp;Tech</td>\n      <td>Yes</td>\n      <td>86.5</td>\n      <td>Mkt&amp;Fin</td>\n      <td>66.28</td>\n      <td>Placed</td>\n    </tr>\n    <tr>\n      <th>2</th>\n      <td>M</td>\n      <td>65.00</td>\n      <td>Central</td>\n      <td>68.00</td>\n      <td>Central</td>\n      <td>Arts</td>\n      <td>64.00</td>\n      <td>Comm&amp;Mgmt</td>\n      <td>No</td>\n      <td>75.0</td>\n      <td>Mkt&amp;Fin</td>\n      <td>57.80</td>\n      <td>Placed</td>\n    </tr>\n    <tr>\n      <th>3</th>\n      <td>M</td>\n      <td>56.00</td>\n      <td>Central</td>\n      <td>52.00</td>\n      <td>Central</td>\n      <td>Science</td>\n      <td>52.00</td>\n      <td>Sci&amp;Tech</td>\n      <td>No</td>\n      <td>66.0</td>\n      <td>Mkt&amp;HR</td>\n      <td>59.43</td>\n      <td>Not Placed</td>\n    </tr>\n    <tr>\n      <th>4</th>\n      <td>M</td>\n      <td>85.80</td>\n      <td>Central</td>\n      <td>73.60</td>\n      <td>Central</td>\n      <td>Commerce</td>\n      <td>73.30</td>\n      <td>Comm&amp;Mgmt</td>\n      <td>No</td>\n      <td>96.8</td>\n      <td>Mkt&amp;Fin</td>\n      <td>55.50</td>\n      <td>Placed</td>\n    </tr>\n    <tr>\n      <th>...</th>\n      <td>...</td>\n      <td>...</td>\n      <td>...</td>\n      <td>...</td>\n      <td>...</td>\n      <td>...</td>\n      <td>...</td>\n      <td>...</td>\n      <td>...</td>\n      <td>...</td>\n      <td>...</td>\n      <td>...</td>\n      <td>...</td>\n    </tr>\n    <tr>\n      <th>210</th>\n      <td>M</td>\n      <td>80.60</td>\n      <td>Others</td>\n      <td>82.00</td>\n      <td>Others</td>\n      <td>Commerce</td>\n      <td>77.60</td>\n      <td>Comm&amp;Mgmt</td>\n      <td>No</td>\n      <td>91.0</td>\n      <td>Mkt&amp;Fin</td>\n      <td>74.49</td>\n      <td>Placed</td>\n    </tr>\n    <tr>\n      <th>211</th>\n      <td>M</td>\n      <td>58.00</td>\n      <td>Others</td>\n      <td>60.00</td>\n      <td>Others</td>\n      <td>Science</td>\n      <td>72.00</td>\n      <td>Sci&amp;Tech</td>\n      <td>No</td>\n      <td>74.0</td>\n      <td>Mkt&amp;Fin</td>\n      <td>53.62</td>\n      <td>Placed</td>\n    </tr>\n    <tr>\n      <th>212</th>\n      <td>M</td>\n      <td>67.00</td>\n      <td>Others</td>\n      <td>67.00</td>\n      <td>Others</td>\n      <td>Commerce</td>\n      <td>73.00</td>\n      <td>Comm&amp;Mgmt</td>\n      <td>Yes</td>\n      <td>59.0</td>\n      <td>Mkt&amp;Fin</td>\n      <td>69.72</td>\n      <td>Placed</td>\n    </tr>\n    <tr>\n      <th>213</th>\n      <td>F</td>\n      <td>74.00</td>\n      <td>Others</td>\n      <td>66.00</td>\n      <td>Others</td>\n      <td>Commerce</td>\n      <td>58.00</td>\n      <td>Comm&amp;Mgmt</td>\n      <td>No</td>\n      <td>70.0</td>\n      <td>Mkt&amp;HR</td>\n      <td>60.23</td>\n      <td>Placed</td>\n    </tr>\n    <tr>\n      <th>214</th>\n      <td>M</td>\n      <td>62.00</td>\n      <td>Central</td>\n      <td>58.00</td>\n      <td>Others</td>\n      <td>Science</td>\n      <td>53.00</td>\n      <td>Comm&amp;Mgmt</td>\n      <td>No</td>\n      <td>89.0</td>\n      <td>Mkt&amp;HR</td>\n      <td>60.22</td>\n      <td>Not Placed</td>\n    </tr>\n  </tbody>\n</table>\n<p>215 rows × 13 columns</p>\n</div>"
          },
          "metadata": {}
        }
      ],
      "execution_count": null
    },
    {
      "cell_type": "code",
      "source": [
        "df.head()"
      ],
      "metadata": {
        "trusted": true,
        "execution": {
          "iopub.status.busy": "2025-01-27T16:25:44.949937Z",
          "iopub.execute_input": "2025-01-27T16:25:44.950316Z",
          "iopub.status.idle": "2025-01-27T16:25:44.967203Z",
          "shell.execute_reply.started": "2025-01-27T16:25:44.950286Z",
          "shell.execute_reply": "2025-01-27T16:25:44.966048Z"
        },
        "id": "xqxrdD54pJpg",
        "outputId": "e49d6264-de46-463e-988e-65bde8485f0d"
      },
      "outputs": [
        {
          "execution_count": 14,
          "output_type": "execute_result",
          "data": {
            "text/plain": "  gender  ssc_percentage ssc_board  hsc_percentage hsc_board hsc_subject  \\\n0      M           67.00    Others           91.00    Others    Commerce   \n1      M           79.33   Central           78.33    Others     Science   \n2      M           65.00   Central           68.00   Central        Arts   \n3      M           56.00   Central           52.00   Central     Science   \n4      M           85.80   Central           73.60   Central    Commerce   \n\n   degree_percentage undergrad_degree work_experience  emp_test_percentage  \\\n0              58.00         Sci&Tech              No                 55.0   \n1              77.48         Sci&Tech             Yes                 86.5   \n2              64.00        Comm&Mgmt              No                 75.0   \n3              52.00         Sci&Tech              No                 66.0   \n4              73.30        Comm&Mgmt              No                 96.8   \n\n  specialisation  mba_percent      status  \n0         Mkt&HR        58.80      Placed  \n1        Mkt&Fin        66.28      Placed  \n2        Mkt&Fin        57.80      Placed  \n3         Mkt&HR        59.43  Not Placed  \n4        Mkt&Fin        55.50      Placed  ",
            "text/html": "<div>\n<style scoped>\n    .dataframe tbody tr th:only-of-type {\n        vertical-align: middle;\n    }\n\n    .dataframe tbody tr th {\n        vertical-align: top;\n    }\n\n    .dataframe thead th {\n        text-align: right;\n    }\n</style>\n<table border=\"1\" class=\"dataframe\">\n  <thead>\n    <tr style=\"text-align: right;\">\n      <th></th>\n      <th>gender</th>\n      <th>ssc_percentage</th>\n      <th>ssc_board</th>\n      <th>hsc_percentage</th>\n      <th>hsc_board</th>\n      <th>hsc_subject</th>\n      <th>degree_percentage</th>\n      <th>undergrad_degree</th>\n      <th>work_experience</th>\n      <th>emp_test_percentage</th>\n      <th>specialisation</th>\n      <th>mba_percent</th>\n      <th>status</th>\n    </tr>\n  </thead>\n  <tbody>\n    <tr>\n      <th>0</th>\n      <td>M</td>\n      <td>67.00</td>\n      <td>Others</td>\n      <td>91.00</td>\n      <td>Others</td>\n      <td>Commerce</td>\n      <td>58.00</td>\n      <td>Sci&amp;Tech</td>\n      <td>No</td>\n      <td>55.0</td>\n      <td>Mkt&amp;HR</td>\n      <td>58.80</td>\n      <td>Placed</td>\n    </tr>\n    <tr>\n      <th>1</th>\n      <td>M</td>\n      <td>79.33</td>\n      <td>Central</td>\n      <td>78.33</td>\n      <td>Others</td>\n      <td>Science</td>\n      <td>77.48</td>\n      <td>Sci&amp;Tech</td>\n      <td>Yes</td>\n      <td>86.5</td>\n      <td>Mkt&amp;Fin</td>\n      <td>66.28</td>\n      <td>Placed</td>\n    </tr>\n    <tr>\n      <th>2</th>\n      <td>M</td>\n      <td>65.00</td>\n      <td>Central</td>\n      <td>68.00</td>\n      <td>Central</td>\n      <td>Arts</td>\n      <td>64.00</td>\n      <td>Comm&amp;Mgmt</td>\n      <td>No</td>\n      <td>75.0</td>\n      <td>Mkt&amp;Fin</td>\n      <td>57.80</td>\n      <td>Placed</td>\n    </tr>\n    <tr>\n      <th>3</th>\n      <td>M</td>\n      <td>56.00</td>\n      <td>Central</td>\n      <td>52.00</td>\n      <td>Central</td>\n      <td>Science</td>\n      <td>52.00</td>\n      <td>Sci&amp;Tech</td>\n      <td>No</td>\n      <td>66.0</td>\n      <td>Mkt&amp;HR</td>\n      <td>59.43</td>\n      <td>Not Placed</td>\n    </tr>\n    <tr>\n      <th>4</th>\n      <td>M</td>\n      <td>85.80</td>\n      <td>Central</td>\n      <td>73.60</td>\n      <td>Central</td>\n      <td>Commerce</td>\n      <td>73.30</td>\n      <td>Comm&amp;Mgmt</td>\n      <td>No</td>\n      <td>96.8</td>\n      <td>Mkt&amp;Fin</td>\n      <td>55.50</td>\n      <td>Placed</td>\n    </tr>\n  </tbody>\n</table>\n</div>"
          },
          "metadata": {}
        }
      ],
      "execution_count": null
    },
    {
      "cell_type": "code",
      "source": [
        "df=df.iloc[:,1:]"
      ],
      "metadata": {
        "trusted": true,
        "execution": {
          "iopub.status.busy": "2025-01-27T16:26:43.609547Z",
          "iopub.execute_input": "2025-01-27T16:26:43.609956Z",
          "iopub.status.idle": "2025-01-27T16:26:43.615331Z",
          "shell.execute_reply.started": "2025-01-27T16:26:43.609926Z",
          "shell.execute_reply": "2025-01-27T16:26:43.613952Z"
        },
        "id": "YpaAuF4upJpg"
      },
      "outputs": [],
      "execution_count": null
    },
    {
      "cell_type": "code",
      "source": [
        "df.head()"
      ],
      "metadata": {
        "trusted": true,
        "execution": {
          "iopub.status.busy": "2025-01-27T16:27:06.426534Z",
          "iopub.execute_input": "2025-01-27T16:27:06.42695Z",
          "iopub.status.idle": "2025-01-27T16:27:06.441926Z",
          "shell.execute_reply.started": "2025-01-27T16:27:06.426919Z",
          "shell.execute_reply": "2025-01-27T16:27:06.440559Z"
        },
        "id": "Bbw5qa9MpJph",
        "outputId": "5dc35261-2975-44dc-a25f-d1d67a61a84c"
      },
      "outputs": [
        {
          "execution_count": 18,
          "output_type": "execute_result",
          "data": {
            "text/plain": "   hsc_percentage hsc_board hsc_subject  degree_percentage undergrad_degree  \\\n0           91.00    Others    Commerce              58.00         Sci&Tech   \n1           78.33    Others     Science              77.48         Sci&Tech   \n2           68.00   Central        Arts              64.00        Comm&Mgmt   \n3           52.00   Central     Science              52.00         Sci&Tech   \n4           73.60   Central    Commerce              73.30        Comm&Mgmt   \n\n  work_experience  emp_test_percentage specialisation  mba_percent      status  \n0              No                 55.0         Mkt&HR        58.80      Placed  \n1             Yes                 86.5        Mkt&Fin        66.28      Placed  \n2              No                 75.0        Mkt&Fin        57.80      Placed  \n3              No                 66.0         Mkt&HR        59.43  Not Placed  \n4              No                 96.8        Mkt&Fin        55.50      Placed  ",
            "text/html": "<div>\n<style scoped>\n    .dataframe tbody tr th:only-of-type {\n        vertical-align: middle;\n    }\n\n    .dataframe tbody tr th {\n        vertical-align: top;\n    }\n\n    .dataframe thead th {\n        text-align: right;\n    }\n</style>\n<table border=\"1\" class=\"dataframe\">\n  <thead>\n    <tr style=\"text-align: right;\">\n      <th></th>\n      <th>hsc_percentage</th>\n      <th>hsc_board</th>\n      <th>hsc_subject</th>\n      <th>degree_percentage</th>\n      <th>undergrad_degree</th>\n      <th>work_experience</th>\n      <th>emp_test_percentage</th>\n      <th>specialisation</th>\n      <th>mba_percent</th>\n      <th>status</th>\n    </tr>\n  </thead>\n  <tbody>\n    <tr>\n      <th>0</th>\n      <td>91.00</td>\n      <td>Others</td>\n      <td>Commerce</td>\n      <td>58.00</td>\n      <td>Sci&amp;Tech</td>\n      <td>No</td>\n      <td>55.0</td>\n      <td>Mkt&amp;HR</td>\n      <td>58.80</td>\n      <td>Placed</td>\n    </tr>\n    <tr>\n      <th>1</th>\n      <td>78.33</td>\n      <td>Others</td>\n      <td>Science</td>\n      <td>77.48</td>\n      <td>Sci&amp;Tech</td>\n      <td>Yes</td>\n      <td>86.5</td>\n      <td>Mkt&amp;Fin</td>\n      <td>66.28</td>\n      <td>Placed</td>\n    </tr>\n    <tr>\n      <th>2</th>\n      <td>68.00</td>\n      <td>Central</td>\n      <td>Arts</td>\n      <td>64.00</td>\n      <td>Comm&amp;Mgmt</td>\n      <td>No</td>\n      <td>75.0</td>\n      <td>Mkt&amp;Fin</td>\n      <td>57.80</td>\n      <td>Placed</td>\n    </tr>\n    <tr>\n      <th>3</th>\n      <td>52.00</td>\n      <td>Central</td>\n      <td>Science</td>\n      <td>52.00</td>\n      <td>Sci&amp;Tech</td>\n      <td>No</td>\n      <td>66.0</td>\n      <td>Mkt&amp;HR</td>\n      <td>59.43</td>\n      <td>Not Placed</td>\n    </tr>\n    <tr>\n      <th>4</th>\n      <td>73.60</td>\n      <td>Central</td>\n      <td>Commerce</td>\n      <td>73.30</td>\n      <td>Comm&amp;Mgmt</td>\n      <td>No</td>\n      <td>96.8</td>\n      <td>Mkt&amp;Fin</td>\n      <td>55.50</td>\n      <td>Placed</td>\n    </tr>\n  </tbody>\n</table>\n</div>"
          },
          "metadata": {}
        }
      ],
      "execution_count": null
    },
    {
      "cell_type": "code",
      "source": [
        "df.shape"
      ],
      "metadata": {
        "trusted": true,
        "execution": {
          "iopub.status.busy": "2025-01-27T16:28:31.937271Z",
          "iopub.execute_input": "2025-01-27T16:28:31.937602Z",
          "iopub.status.idle": "2025-01-27T16:28:31.943829Z",
          "shell.execute_reply.started": "2025-01-27T16:28:31.937579Z",
          "shell.execute_reply": "2025-01-27T16:28:31.942666Z"
        },
        "id": "COKCyZT8pJpi",
        "outputId": "68e004f2-689d-4229-853a-ab6ee3637e2c"
      },
      "outputs": [
        {
          "execution_count": 20,
          "output_type": "execute_result",
          "data": {
            "text/plain": "(215, 10)"
          },
          "metadata": {}
        }
      ],
      "execution_count": null
    },
    {
      "cell_type": "code",
      "source": [],
      "metadata": {
        "trusted": true,
        "id": "I-3gFWCjpJpj"
      },
      "outputs": [],
      "execution_count": null
    }
  ]
}