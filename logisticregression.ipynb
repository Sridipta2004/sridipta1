{
  "metadata": {
    "kernelspec": {
      "language": "python",
      "display_name": "Python 3",
      "name": "python3"
    },
    "language_info": {
      "name": "python",
      "version": "3.10.12",
      "mimetype": "text/x-python",
      "codemirror_mode": {
        "name": "ipython",
        "version": 3
      },
      "pygments_lexer": "ipython3",
      "nbconvert_exporter": "python",
      "file_extension": ".py"
    },
    "kaggle": {
      "accelerator": "none",
      "dataSources": [],
      "dockerImageVersionId": 30886,
      "isInternetEnabled": true,
      "language": "python",
      "sourceType": "notebook",
      "isGpuEnabled": false
    },
    "colab": {
      "name": "logisticregression",
      "provenance": [],
      "include_colab_link": true
    }
  },
  "nbformat_minor": 0,
  "nbformat": 4,
  "cells": [
    {
      "cell_type": "markdown",
      "metadata": {
        "id": "view-in-github",
        "colab_type": "text"
      },
      "source": [
        "<a href=\"https://colab.research.google.com/github/Sridipta2004/sridipta1/blob/main/logisticregression.ipynb\" target=\"_parent\"><img src=\"https://colab.research.google.com/assets/colab-badge.svg\" alt=\"Open In Colab\"/></a>"
      ]
    },
    {
      "cell_type": "code",
      "source": [
        "# This Python 3 environment comes with many helpful analytics libraries installed\n",
        "# It is defined by the kaggle/python Docker image: https://github.com/kaggle/docker-python\n",
        "# For example, here's several helpful packages to load\n",
        "\n",
        "import numpy as np # linear algebra\n",
        "import pandas as pd # data processing, CSV file I/O (e.g. pd.read_csv)\n",
        "\n",
        "# Input data files are available in the read-only \"../input/\" directory\n",
        "# For example, running this (by clicking run or pressing Shift+Enter) will list all files under the input directory\n",
        "\n",
        "import os\n",
        "for dirname, _, filenames in os.walk('/kaggle/input'):\n",
        "    for filename in filenames:\n",
        "        print(os.path.join(dirname, filename))\n",
        "\n",
        "# You can write up to 20GB to the current directory (/kaggle/working/) that gets preserved as output when you create a version using \"Save & Run All\"\n",
        "# You can also write temporary files to /kaggle/temp/, but they won't be saved outside of the current session"
      ],
      "metadata": {
        "_uuid": "8f2839f25d086af736a60e9eeb907d3b93b6e0e5",
        "_cell_guid": "b1076dfc-b9ad-4769-8c92-a6c4dae69d19",
        "trusted": true,
        "execution": {
          "iopub.status.busy": "2025-02-20T12:27:07.395616Z",
          "iopub.execute_input": "2025-02-20T12:27:07.39598Z",
          "iopub.status.idle": "2025-02-20T12:27:07.401257Z",
          "shell.execute_reply.started": "2025-02-20T12:27:07.395954Z",
          "shell.execute_reply": "2025-02-20T12:27:07.400105Z"
        },
        "id": "5iTVly0gXo4x"
      },
      "outputs": [],
      "execution_count": null
    },
    {
      "cell_type": "code",
      "source": [
        "from sklearn.datasets import load_iris\n",
        "from sklearn.model_selection import train_test_split\n",
        "from sklearn.linear_model import LogisticRegression\n",
        "from sklearn.metrics import accuracy_score, confusion_matrix, classification_report"
      ],
      "metadata": {
        "trusted": true,
        "execution": {
          "iopub.status.busy": "2025-02-20T12:27:07.402793Z",
          "iopub.execute_input": "2025-02-20T12:27:07.403166Z",
          "iopub.status.idle": "2025-02-20T12:27:07.423902Z",
          "shell.execute_reply.started": "2025-02-20T12:27:07.403132Z",
          "shell.execute_reply": "2025-02-20T12:27:07.422756Z"
        },
        "id": "Nntqd1C-Xo40"
      },
      "outputs": [],
      "execution_count": null
    },
    {
      "cell_type": "code",
      "source": [
        "data=load_iris()\n",
        "x=data.data\n",
        "y=data.target"
      ],
      "metadata": {
        "trusted": true,
        "execution": {
          "iopub.status.busy": "2025-02-20T12:27:07.42538Z",
          "iopub.execute_input": "2025-02-20T12:27:07.42579Z",
          "iopub.status.idle": "2025-02-20T12:27:07.443141Z",
          "shell.execute_reply.started": "2025-02-20T12:27:07.425752Z",
          "shell.execute_reply": "2025-02-20T12:27:07.442001Z"
        },
        "id": "_soracsgXo43"
      },
      "outputs": [],
      "execution_count": null
    },
    {
      "cell_type": "code",
      "source": [
        "x_train, x_test, y_train, y_test =train_test_split(x,y,test_size=0.3,random_state=43)"
      ],
      "metadata": {
        "trusted": true,
        "execution": {
          "iopub.status.busy": "2025-02-20T12:27:07.444254Z",
          "iopub.execute_input": "2025-02-20T12:27:07.444558Z",
          "iopub.status.idle": "2025-02-20T12:27:07.462262Z",
          "shell.execute_reply.started": "2025-02-20T12:27:07.444524Z",
          "shell.execute_reply": "2025-02-20T12:27:07.461193Z"
        },
        "id": "mvwlIFsVXo44"
      },
      "outputs": [],
      "execution_count": null
    },
    {
      "cell_type": "code",
      "source": [
        "model=LogisticRegression(max_iter=200)\n",
        "model.fit(x_train,y_train)"
      ],
      "metadata": {
        "trusted": true,
        "execution": {
          "iopub.status.busy": "2025-02-20T12:29:13.9469Z",
          "iopub.execute_input": "2025-02-20T12:29:13.947223Z",
          "iopub.status.idle": "2025-02-20T12:29:14.010027Z",
          "shell.execute_reply.started": "2025-02-20T12:29:13.9472Z",
          "shell.execute_reply": "2025-02-20T12:29:14.009018Z"
        },
        "id": "-bWRiH00Xo44"
      },
      "outputs": [],
      "execution_count": null
    },
    {
      "cell_type": "code",
      "source": [
        "y_pred=model.predict(x_test)\n",
        "accuracy=accuracy_score(y_test,y_pred)\n",
        "report=classification_report(y_test,y_pred)\n",
        "cmatrix=confusion_matrix(y_test,y_pred)\n",
        "print(f\"Accuracy: {accuracy}\")\n",
        "print(f\"report: {report}\")\n",
        "print(f\"confution matrix: {cmatrix}\")"
      ],
      "metadata": {
        "trusted": true,
        "execution": {
          "iopub.status.busy": "2025-02-20T12:34:07.025128Z",
          "iopub.execute_input": "2025-02-20T12:34:07.025444Z",
          "iopub.status.idle": "2025-02-20T12:34:07.044446Z",
          "shell.execute_reply.started": "2025-02-20T12:34:07.025422Z",
          "shell.execute_reply": "2025-02-20T12:34:07.043323Z"
        },
        "id": "rGROWWfFXo45"
      },
      "outputs": [],
      "execution_count": null
    }
  ]
}