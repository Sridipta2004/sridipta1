{
  "nbformat": 4,
  "nbformat_minor": 0,
  "metadata": {
    "colab": {
      "provenance": [],
      "authorship_tag": "ABX9TyPdUjcXWfV45NIdXtddQMV0",
      "include_colab_link": true
    },
    "kernelspec": {
      "name": "python3",
      "display_name": "Python 3"
    },
    "language_info": {
      "name": "python"
    }
  },
  "cells": [
    {
      "cell_type": "markdown",
      "metadata": {
        "id": "view-in-github",
        "colab_type": "text"
      },
      "source": [
        "<a href=\"https://colab.research.google.com/github/Sridipta2004/sridipta1/blob/main/sridipta.ipynb\" target=\"_parent\"><img src=\"https://colab.research.google.com/assets/colab-badge.svg\" alt=\"Open In Colab\"/></a>"
      ]
    },
    {
      "cell_type": "code",
      "execution_count": 1,
      "metadata": {
        "colab": {
          "base_uri": "https://localhost:8080/"
        },
        "id": "osd7pdNssyXU",
        "outputId": "545c9263-cc95-4cbd-b902-57cefbf85bec"
      },
      "outputs": [
        {
          "output_type": "stream",
          "name": "stdout",
          "text": [
            "fruit\n"
          ]
        }
      ],
      "source": [
        "name=\"fruit\"\n",
        "print(name)"
      ]
    },
    {
      "cell_type": "code",
      "source": [
        "name_con=\"i love \"\n",
        "name_lon=\"harry hello\"\n",
        "print(name_con+name_lon)"
      ],
      "metadata": {
        "colab": {
          "base_uri": "https://localhost:8080/"
        },
        "id": "_aelTBC2tBKn",
        "outputId": "9b7f03d7-56ed-4452-e102-4e3747ede943"
      },
      "execution_count": 3,
      "outputs": [
        {
          "output_type": "stream",
          "name": "stdout",
          "text": [
            "i love harry hello\n"
          ]
        }
      ]
    },
    {
      "cell_type": "code",
      "source": [
        "name=\"mango\"\n",
        "print(name[3])"
      ],
      "metadata": {
        "colab": {
          "base_uri": "https://localhost:8080/"
        },
        "id": "geqI4sJOtW_7",
        "outputId": "ab58ff2c-6bd3-4b48-e05f-0e7cb9fa9cac"
      },
      "execution_count": 4,
      "outputs": [
        {
          "output_type": "stream",
          "name": "stdout",
          "text": [
            "g\n"
          ]
        }
      ]
    },
    {
      "cell_type": "code",
      "source": [
        "name=\"mango\"\n",
        "name_len=len(name)\n",
        "print(name_len)"
      ],
      "metadata": {
        "colab": {
          "base_uri": "https://localhost:8080/"
        },
        "id": "RUTUXON0tq9U",
        "outputId": "025a7a3e-a941-4228-a0be-a7216c60b202"
      },
      "execution_count": 7,
      "outputs": [
        {
          "output_type": "stream",
          "name": "stdout",
          "text": [
            "5\n"
          ]
        }
      ]
    },
    {
      "cell_type": "code",
      "source": [
        "name=\"mango\"\n",
        "print(name[2:4])"
      ],
      "metadata": {
        "colab": {
          "base_uri": "https://localhost:8080/"
        },
        "id": "LR7A6aQzt97s",
        "outputId": "6bcaa36c-8143-42e9-cdc8-d6a68a30d2f8"
      },
      "execution_count": 9,
      "outputs": [
        {
          "output_type": "stream",
          "name": "stdout",
          "text": [
            "ng\n"
          ]
        }
      ]
    },
    {
      "cell_type": "code",
      "source": [
        "name=\"mango\"\n",
        "print(name[-3:-2])"
      ],
      "metadata": {
        "colab": {
          "base_uri": "https://localhost:8080/"
        },
        "id": "VqwT408Cu6He",
        "outputId": "b4389dc3-716c-421e-b4bd-79a0997d0fa7"
      },
      "execution_count": 10,
      "outputs": [
        {
          "output_type": "stream",
          "name": "stdout",
          "text": [
            "n\n"
          ]
        }
      ]
    }
  ]
}