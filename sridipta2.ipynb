{
  "nbformat": 4,
  "nbformat_minor": 0,
  "metadata": {
    "colab": {
      "provenance": [],
      "authorship_tag": "ABX9TyNe+cp2AnXnpEa+sg+qMFQX",
      "include_colab_link": true
    },
    "kernelspec": {
      "name": "python3",
      "display_name": "Python 3"
    },
    "language_info": {
      "name": "python"
    }
  },
  "cells": [
    {
      "cell_type": "markdown",
      "metadata": {
        "id": "view-in-github",
        "colab_type": "text"
      },
      "source": [
        "<a href=\"https://colab.research.google.com/github/Sridipta2004/sridipta1/blob/main/sridipta2.ipynb\" target=\"_parent\"><img src=\"https://colab.research.google.com/assets/colab-badge.svg\" alt=\"Open In Colab\"/></a>"
      ]
    },
    {
      "cell_type": "code",
      "execution_count": 3,
      "metadata": {
        "colab": {
          "base_uri": "https://localhost:8080/"
        },
        "id": "BWlSRV2tBZD_",
        "outputId": "cc0c7781-5391-4f37-f099-e827d03aa50b"
      },
      "outputs": [
        {
          "output_type": "stream",
          "name": "stdout",
          "text": [
            "45\n",
            "your age is 45\n",
            "you can drive\n"
          ]
        }
      ],
      "source": [
        "a=int(input())\n",
        "print(\"your age is\",a)\n",
        "if(a>=18):\n",
        "  print(\"you can drive\")\n",
        "else:\n",
        "  print(\"you cannot drive\")"
      ]
    },
    {
      "cell_type": "code",
      "source": [
        "appleprice=210\n",
        "budget=200\n",
        "if(appleprice<=budget):\n",
        "  print(\"you can buy\")\n",
        "else:\n",
        "  print(\"you cannot buy\")"
      ],
      "metadata": {
        "colab": {
          "base_uri": "https://localhost:8080/"
        },
        "id": "yAhfnC8NCtUs",
        "outputId": "fece0b7a-a7c8-4871-8837-059fb1e04fea"
      },
      "execution_count": 4,
      "outputs": [
        {
          "output_type": "stream",
          "name": "stdout",
          "text": [
            "you cannot buy\n"
          ]
        }
      ]
    },
    {
      "cell_type": "code",
      "source": [
        "num=int(input())\n",
        "print(\"your number is:\",num)\n",
        "if(num<0):\n",
        "  print(\"it is a negative number\")\n",
        "elif(num==0):\n",
        "  print(\"it is zero\")\n",
        "else:\n",
        "  print(\"it is positive number\")"
      ],
      "metadata": {
        "colab": {
          "base_uri": "https://localhost:8080/"
        },
        "id": "rHfzYWLvDg30",
        "outputId": "32f0be3a-e303-49d3-c53b-7ee2159b8944"
      },
      "execution_count": 8,
      "outputs": [
        {
          "output_type": "stream",
          "name": "stdout",
          "text": [
            "18\n",
            "your number is: 18\n",
            "it is positive number\n"
          ]
        }
      ]
    },
    {
      "cell_type": "code",
      "source": [
        "x=int(input())\n",
        "print(\"your number is\",x)\n",
        "match x:\n",
        "  case 0:\n",
        "    print(\"x is zero\")\n",
        "  case 4:\n",
        "    print(\"x is 4\")\n",
        "  case _:\n",
        "    print(\"it is default case .\")"
      ],
      "metadata": {
        "colab": {
          "base_uri": "https://localhost:8080/"
        },
        "id": "hU8lEQBOEq0m",
        "outputId": "0efcbba9-8bcb-4f32-8169-b4f9f50ec43e"
      },
      "execution_count": 10,
      "outputs": [
        {
          "output_type": "stream",
          "name": "stdout",
          "text": [
            "23456789853\n",
            "your number is 23456789853\n",
            "it is default case .\n"
          ]
        }
      ]
    },
    {
      "cell_type": "code",
      "source": [
        "name=\"abhishek\"\n",
        "for i in name:\n",
        "  print(i)"
      ],
      "metadata": {
        "colab": {
          "base_uri": "https://localhost:8080/"
        },
        "id": "1jtKCaQfG4Id",
        "outputId": "b706c8ae-f5d0-4582-ba7e-8bb1e468472d"
      },
      "execution_count": 11,
      "outputs": [
        {
          "output_type": "stream",
          "name": "stdout",
          "text": [
            "a\n",
            "b\n",
            "h\n",
            "i\n",
            "s\n",
            "h\n",
            "e\n",
            "k\n"
          ]
        }
      ]
    },
    {
      "cell_type": "code",
      "source": [
        "colors=[\"red\", \"green\", \"blue\"]\n",
        "for color in colors:\n",
        "  print(color)"
      ],
      "metadata": {
        "colab": {
          "base_uri": "https://localhost:8080/"
        },
        "id": "VR-NxLTwH6Di",
        "outputId": "31373c3a-d84d-4732-e15c-23aa843e6908"
      },
      "execution_count": 13,
      "outputs": [
        {
          "output_type": "stream",
          "name": "stdout",
          "text": [
            "red\n",
            "green\n",
            "blue\n"
          ]
        }
      ]
    },
    {
      "cell_type": "code",
      "source": [
        "i=0\n",
        "while(i<3):\n",
        "  print(i)\n",
        "  i=i+1"
      ],
      "metadata": {
        "colab": {
          "base_uri": "https://localhost:8080/"
        },
        "id": "68ujm7P5Iviy",
        "outputId": "32daa189-74ad-439b-f058-6a0186f4c08b"
      },
      "execution_count": 1,
      "outputs": [
        {
          "output_type": "stream",
          "name": "stdout",
          "text": [
            "0\n",
            "1\n",
            "2\n"
          ]
        }
      ]
    },
    {
      "cell_type": "code",
      "source": [],
      "metadata": {
        "id": "Gi0ugAokJbzJ"
      },
      "execution_count": null,
      "outputs": []
    }
  ]
}